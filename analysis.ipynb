{
 "cells": [
  {
   "cell_type": "markdown",
   "metadata": {},
   "source": [
    "# Introduction to Digital Forensics - Assignment 3\n",
    "### 1\n",
    "\n",
    "\n",
    "### 2\n",
    "\n",
    "### 3\n",
    "\n",
    "\n",
    "### Made by group 1:\n",
    "- Simge Bilen       s2532239\n",
    "- Mark Boom         s2552469\n",
    "- Tom Essers        s2484765\n",
    "- Baran Gülbey      s2616394\n",
    "- Jelmer Hofman     s2460653\n",
    "- Stijn Schuurman   s2620162"
   ]
  },
  {
   "cell_type": "code",
   "execution_count": 24,
   "metadata": {},
   "outputs": [
    {
     "name": "stdout",
     "output_type": "stream",
     "text": [
      "Requirement already satisfied: pandas in e:\\anaconda\\lib\\site-packages (1.3.4)\n",
      "Requirement already satisfied: pytz>=2017.3 in e:\\anaconda\\lib\\site-packages (from pandas) (2021.3)\n",
      "Requirement already satisfied: numpy>=1.17.3 in e:\\anaconda\\lib\\site-packages (from pandas) (1.20.3)\n",
      "Requirement already satisfied: python-dateutil>=2.7.3 in e:\\anaconda\\lib\\site-packages (from pandas) (2.8.2)\n",
      "Requirement already satisfied: six>=1.5 in e:\\anaconda\\lib\\site-packages (from python-dateutil>=2.7.3->pandas) (1.16.0)\n",
      "Requirement already satisfied: matplotlib in e:\\anaconda\\lib\\site-packages (3.4.3)\n",
      "Requirement already satisfied: numpy>=1.16 in e:\\anaconda\\lib\\site-packages (from matplotlib) (1.20.3)\n",
      "Requirement already satisfied: pillow>=6.2.0 in e:\\anaconda\\lib\\site-packages (from matplotlib) (8.4.0)\n",
      "Requirement already satisfied: kiwisolver>=1.0.1 in e:\\anaconda\\lib\\site-packages (from matplotlib) (1.3.1)\n",
      "Requirement already satisfied: python-dateutil>=2.7 in e:\\anaconda\\lib\\site-packages (from matplotlib) (2.8.2)\n",
      "Requirement already satisfied: cycler>=0.10 in e:\\anaconda\\lib\\site-packages (from matplotlib) (0.10.0)\n",
      "Requirement already satisfied: pyparsing>=2.2.1 in e:\\anaconda\\lib\\site-packages (from matplotlib) (3.0.4)\n",
      "Requirement already satisfied: six in e:\\anaconda\\lib\\site-packages (from cycler>=0.10->matplotlib) (1.16.0)\n",
      "Requirement already satisfied: openpyxl in e:\\anaconda\\lib\\site-packages (3.0.9)\n",
      "Requirement already satisfied: et-xmlfile in e:\\anaconda\\lib\\site-packages (from openpyxl) (1.1.0)\n",
      "Collecting tabulate\n",
      "  Downloading tabulate-0.9.0-py3-none-any.whl (35 kB)\n",
      "Installing collected packages: tabulate\n",
      "Successfully installed tabulate-0.9.0\n"
     ]
    }
   ],
   "source": [
    "!pip3 install pandas\n",
    "!pip3 install matplotlib\n",
    "!pip3 install openpyxl\n",
    "!pip3 install tabulate"
   ]
  },
  {
   "cell_type": "code",
   "execution_count": 30,
   "metadata": {},
   "outputs": [],
   "source": [
    "import pandas as pd\n",
    "import matplotlib.pyplot as plt\n",
    "import collections\n",
    "from tabulate import tabulate\n"
   ]
  },
  {
   "cell_type": "code",
   "execution_count": 3,
   "metadata": {},
   "outputs": [
    {
     "data": {
      "text/plain": [
       "0"
      ]
     },
     "execution_count": 3,
     "metadata": {},
     "output_type": "execute_result"
    }
   ],
   "source": [
    "#csv file\n",
    "file =  'jabber_chat_2021_2022_translated.csv'\n",
    "\n",
    "df = pd.read_csv(file)\n",
    "test = \"\"\n",
    "len(test)"
   ]
  },
  {
   "cell_type": "markdown",
   "metadata": {},
   "source": [
    "# **(1) How many bad words are in the messages?** (Mark)"
   ]
  },
  {
   "cell_type": "code",
   "execution_count": 4,
   "metadata": {},
   "outputs": [],
   "source": [
    "# code block for \"How many bad wordsa re in the messages? (Mark)\""
   ]
  },
  {
   "cell_type": "markdown",
   "metadata": {},
   "source": [
    "# **(2) In what time zones do the hackers probably live?** (Mark)"
   ]
  },
  {
   "cell_type": "code",
   "execution_count": 5,
   "metadata": {},
   "outputs": [],
   "source": [
    "# code block for \"In what time zones do the hackers probably live? (Mark)\""
   ]
  },
  {
   "cell_type": "markdown",
   "metadata": {},
   "source": [
    "# **(3) At what time are the hackers the most active?** (Stijn)"
   ]
  },
  {
   "cell_type": "code",
   "execution_count": 6,
   "metadata": {},
   "outputs": [
    {
     "data": {
      "text/plain": [
       "(array([ 313.,  408.,  321.,  388.,  249.,  531.,  839., 1977., 2759.,\n",
       "        3221., 3200., 3582., 4503., 5233., 5257., 4545., 4723., 4946.,\n",
       "        4393., 3089., 2940., 1952., 1404.]),\n",
       " array([ 0,  1,  2,  3,  4,  5,  6,  7,  8,  9, 10, 11, 12, 13, 14, 15, 16,\n",
       "        17, 18, 19, 20, 21, 22, 23]),\n",
       " <BarContainer object of 23 artists>)"
      ]
     },
     "execution_count": 6,
     "metadata": {},
     "output_type": "execute_result"
    },
    {
     "data": {
      "image/png": "[encoded data removed]",
      "text/plain": [
       "<Figure size 432x288 with 1 Axes>"
      ]
     },
     "metadata": {
      "needs_background": "light"
     },
     "output_type": "display_data"
    }
   ],
   "source": [
    "df = pd.read_csv(file, usecols=['ts'])\n",
    "hours = []\n",
    "for index, row in df.iterrows():\n",
    "    hours.append(int(row.ts[11:13]))\n",
    "plt.title(\"Most active hours\")\n",
    "plt.hist(hours, color=\"darkred\", bins=range(0, 24))"
   ]
  },
  {
   "cell_type": "markdown",
   "metadata": {},
   "source": [
    "# **(4) What are the most commonly used words not present in a dictionary?** (Mark)"
   ]
  },
  {
   "cell_type": "code",
   "execution_count": 7,
   "metadata": {},
   "outputs": [],
   "source": [
    "# code block for \"What are the most commonly used words not present in a dictionary? (Mark)\""
   ]
  },
  {
   "cell_type": "markdown",
   "metadata": {},
   "source": [
    "# **(5) Who sends the most messages?** (Stijn)"
   ]
  },
  {
   "cell_type": "code",
   "execution_count": 8,
   "metadata": {},
   "outputs": [
    {
     "data": {
      "text/plain": [
       "<BarContainer object of 10 artists>"
      ]
     },
     "execution_count": 8,
     "metadata": {},
     "output_type": "execute_result"
    },
    {
     "data": {
      "image/png": "[encoded data removed]",
      "text/plain": [
       "<Figure size 432x288 with 1 Axes>"
      ]
     },
     "metadata": {
      "needs_background": "light"
     },
     "output_type": "display_data"
    }
   ],
   "source": [
    "df = pd.read_csv(file, usecols=['sender'])\n",
    "senders = []\n",
    "for index, row in df.iterrows():\n",
    "    senders.append(row.sender)\n",
    "\n",
    "frequency = collections.Counter(senders)\n",
    "\n",
    "sendersList = frequency.keys()\n",
    "frequencyList = frequency.values()\n",
    "\n",
    "sendersOrdered = [x for _,x in sorted(zip(frequencyList,sendersList), reverse=True)]\n",
    "frequenciesOrdered = []\n",
    "# Z is ordered list of most used emails as senders\n",
    "for x in sendersOrdered:\n",
    "    frequenciesOrdered.append(frequency.get(x))\n",
    "\n",
    "plt.title(\"Top 10 senders\")\n",
    "plt.xticks(rotation=90)\n",
    "plt.bar(sendersOrdered[:10], frequenciesOrdered[:10])"
   ]
  },
  {
   "cell_type": "markdown",
   "metadata": {},
   "source": [
    "# **(6) Who receives the most messages?** (Stijn)"
   ]
  },
  {
   "cell_type": "code",
   "execution_count": 9,
   "metadata": {},
   "outputs": [
    {
     "data": {
      "text/plain": [
       "<BarContainer object of 10 artists>"
      ]
     },
     "execution_count": 9,
     "metadata": {},
     "output_type": "execute_result"
    },
    {
     "data": {
      "image/png": "[encoded data removed]",
      "text/plain": [
       "<Figure size 432x288 with 1 Axes>"
      ]
     },
     "metadata": {
      "needs_background": "light"
     },
     "output_type": "display_data"
    }
   ],
   "source": [
    "df = pd.read_csv(file, usecols=['to'])\n",
    "receivers = []\n",
    "for index, row in df.iterrows():\n",
    "    receivers.append(row.to)\n",
    "\n",
    "frequency = collections.Counter(receivers)\n",
    "\n",
    "receiversList = frequency.keys()\n",
    "frequencyList = frequency.values()\n",
    "\n",
    "sendersOrdered = [x for _,x in sorted(zip(frequencyList,receiversList), reverse=True)]\n",
    "frequenciesOrdered = []\n",
    "# Z is ordered list of most used emails as senders\n",
    "for x in sendersOrdered:\n",
    "    frequenciesOrdered.append(frequency.get(x))\n",
    "\n",
    "plt.title(\"Top 10 receivers\")\n",
    "plt.xticks(rotation=90)\n",
    "plt.bar(sendersOrdered[:10], frequenciesOrdered[:10])"
   ]
  },
  {
   "cell_type": "markdown",
   "metadata": {},
   "source": [
    "# **(7) What are some movies or songs the hackers reference?** (Mark)"
   ]
  },
  {
   "cell_type": "code",
   "execution_count": 10,
   "metadata": {},
   "outputs": [],
   "source": [
    "# code block for \"What are some movies or songs the hackers reference?\""
   ]
  },
  {
   "cell_type": "markdown",
   "metadata": {},
   "source": [
    "# **(8) Bitcoin wallets that are mentioned** (Baran)"
   ]
  },
  {
   "cell_type": "code",
   "execution_count": 53,
   "metadata": {},
   "outputs": [
    {
     "name": "stdout",
     "output_type": "stream",
     "text": [
      "  Wallet  Bitcoin address\n",
      "--------  ----------------------------------\n",
      "       1  3ESoHHu87mTrFNSNUaMVEfT3vYwRYGfSHQ\n",
      "       2  1PemRXvQ5nbDs6q19pCUzfd4kXVGovVoe3\n",
      "       3  14HnaQfsQdtgVSNR91jLcbcKtdyddDfP6D\n",
      "       4  15gjb8F5Zd8XRKBCgVxsr8ZuVzr7yBtnCN\n",
      "       5  1DSp4woswZECAL9zdmmGeu1s7k1sGExFDh\n",
      "       6  1HtyXyCrshiJmLYNru7atpDMJrzG9mzwzf\n",
      "       7  b58c7d4c1824eefc874dd7f07eacec58\n",
      "       8  1KfDPgc6CiWb6Fnin1bLWi2moX1ViXANxW\n",
      "       9  1AXiwETqqQoA52Jk5CmJkbAPuW8nR7VUYz\n",
      "      10  1hLvH27BxAPbqx3R2fMCuuMPfS2gGDBJL\n",
      "      11  3N4oho2uXfkFBfUAPtoPGLUXjHXqXV4vrJ\n",
      "      12  1347fBtFzZCrPq29yjRpct5f6Kq5uHZHHy\n",
      "      13  36UqDj8hGfZTVjpURvSnKtpJnJKjhYcvuY\n",
      "      14  314f41b2d78ec803c74a2c89fa8e8bb4\n",
      "      15  31inPQPChryvSPEnaXrBc6kmYH4NAqYnTR\n",
      "      16  1DS9DVVD4K86ppQhg8ta9XFVEaaW7NXZfA\n",
      "      17  12V63PHiX8FvEgyewX5W1D2QrdJJSawqQM\n",
      "      18  1HFqLt3fbuewZe5ncJautgncS6hN1ZzX5r\n",
      "      19  16evvEiZ6HKkV9WAbysJfJG1Qa7DzJGUFp\n",
      "      20  172KVKhMqL5CU1HN884RbArzu5DDL5hwE3\n",
      "      21  1LYiEgq9k3xSAddbqMZcsVTayJVoKbTFub\n",
      "      22  3A8xNfeK2dXdDHi5PtKjZFa48HFixTqdAv\n",
      "      23  36dmB68ZpeZZThy9SnCHoMvfqCKgZS1Grf\n",
      "      24  b0f6d9a083596b0fd4f9168d6f3d67cc\n",
      "      25  112qJRWfQCAqKzSk3ZcQnq1A1YwqyfLbgp\n",
      "      26  3Jc3mTyYuRpP7hynPaStpDBPNNd8FYydzS\n",
      "      27  1FWWRT88WjYbZp4NoRNEBgTGjRxhi2J9YM\n",
      "      28  3B7AmkZ8VVhKAAqCp4ZLNVbmGJQoZcaBc9\n",
      "      29  1KQ5tkv7NWjG2a67fP6UzTc7egE6HWAXux\n",
      "      30  15QULY9y2HJj1i85LiJGMYWChhAqnGkCSx\n",
      "      31  3M9tAMuamLcCpifaCQPSH3Th5F4VwjmyWz\n",
      "      32  3LaDs8DLJCSiJDV8RYHGyk4EVjbVRvxC9A\n",
      "      33  169J9MvXSjJZUjarG7JXDD8qiQXZS4jj6A\n",
      "      34  3CvVwhowFkgoqEw2cZE5DmMYvsqRgtQVaH\n",
      "      35  3QdNiLEpxKWQ6SoxULAo4xc48d5otumivR\n",
      "      36  1K4NVpT26qwtLp2yReFkgecPkqqQHVrVJd\n",
      "      37  b57e0d8ffb1743f08eb6d3aa4a2e743a\n",
      "      38  1GoAiu7jLbjNoVBvKX8Dba45G4J3BFL3tM\n",
      "      39  3JDKxEidX2JhmusBDB3BRaCahucEiHcK8n\n",
      "      40  12KHi1L1KUNDjSvkG5j56FRNbFrud3ZjUU\n",
      "      41  35Z4UipuER5ZGprGUugcoxPWwZ43RXchPX\n",
      "      42  1LLRL4vZajTtpjuBh5VpBD8zUg73CHUsq3\n",
      "      43  33hiG13GTHTV2G8aZxzBJHBPBpDNevcK2B\n",
      "      44  3351LRF9NrFH5v2CMZWsCv66tv5UAjX5Gn\n"
     ]
    }
   ],
   "source": [
    "#receives a string and splits it up at every whitespace. Than iterates over every word so it finds every potential wallet\n",
    "def walletFinder(stringOfCell):\n",
    "    cryptoBegin = [\"1\", \"3\", \"b\"] #bitcoin wallets normally start with these characters\n",
    "    splittedCell = stringOfCell.split(' ')\n",
    "    for word in splittedCell:\n",
    "        if len(word) > 1: #check if word is actually a word and not a single character\n",
    "            if word[0] in cryptoBegin: #check if the first character of the word is that of a potential bitcoin wallet\n",
    "                if len(word) in range(31, 35): # officieel tussen 27 en 34 length bitcoin wallet\n",
    "                    return word\n",
    "    return 0                \n",
    "\n",
    "#there are alot of repeat messages in the cvs file which we definitly know it does not include a bitcoin wallet, so we filter those out initially.\n",
    "def cleanUp(unCleanedString):\n",
    "    errorStrings = [\"[ERROR: This message is encrypted, and you are unable to decrypt it.]\", \"[Ошибка: сообщение зашифровано, и невозможно его расшифровать.]\"] #encrypted messages\n",
    "    unwantedSubstrings = [\"-----BEGIN PGP PUBLIC KEY BLOCK-----\", \".onion\", \"192.168.\", \"188.130.\"] #lots of repeated words\n",
    "    if unCleanedString in errorStrings:\n",
    "        return 0\n",
    "    for index in unwantedSubstrings:\n",
    "        if index in unCleanedString:\n",
    "            return 0\n",
    "    return unCleanedString\n",
    "\n",
    "#turn the list of unique wallets into a list of lists so it can be turned into a table.\n",
    "def setTable(list):\n",
    "    tableFormatted = []\n",
    "    for index in list:\n",
    "        tempList = []\n",
    "        tempList.append(list.index(index) + 1)\n",
    "        tempList.append(index)\n",
    "        tableFormatted.append(tempList)\n",
    "    return tableFormatted\n",
    "\n",
    "df = pd.read_csv(file, usecols=['body']) #read all rows in the body column\n",
    "wallets = []\n",
    "for index, row in df.iterrows():\n",
    "    cleanedUp = cleanUp(row.body)\n",
    "    if cleanedUp != 0:\n",
    "        temp = walletFinder(cleanedUp)\n",
    "        if temp != 0:\n",
    "            if temp not in wallets:\n",
    "                wallets.append(temp)\n",
    "\n",
    "data = setTable(wallets)\n",
    "print(tabulate(data, headers=[\"Wallet\", \"Bitcoin address\"]))"
   ]
  },
  {
   "cell_type": "code",
   "execution_count": null,
   "metadata": {},
   "outputs": [],
   "source": []
  },
  {
   "cell_type": "markdown",
   "metadata": {},
   "source": [
    "# **(9) Fun conversations** (Baran)"
   ]
  },
  {
   "cell_type": "code",
   "execution_count": 13,
   "metadata": {},
   "outputs": [],
   "source": [
    "# code block for \"Fun conversations\""
   ]
  },
  {
   "cell_type": "markdown",
   "metadata": {},
   "source": [
    "# **(10) What are the topics referred to in the most messages sent to a hacker?** (Stijn)"
   ]
  },
  {
   "cell_type": "code",
   "execution_count": 14,
   "metadata": {},
   "outputs": [],
   "source": [
    "# code block for \"What are the topics referred to in the most messages sent to a person?\""
   ]
  },
  {
   "cell_type": "markdown",
   "metadata": {},
   "source": [
    "# **(11) Average of messages per person** (Jelmer)"
   ]
  },
  {
   "cell_type": "code",
   "execution_count": 15,
   "metadata": {},
   "outputs": [],
   "source": [
    "# code block for \"Average of messages per person\""
   ]
  },
  {
   "cell_type": "markdown",
   "metadata": {},
   "source": [
    "# **(12) Who are the hackers?** (Jelmer)"
   ]
  },
  {
   "cell_type": "code",
   "execution_count": 16,
   "metadata": {},
   "outputs": [],
   "source": [
    "# code block for \"Who are the hackers?\""
   ]
  },
  {
   "cell_type": "markdown",
   "metadata": {},
   "source": [
    "# **(13) Examples of complains that members had** (Simge)"
   ]
  },
  {
   "cell_type": "code",
   "execution_count": 17,
   "metadata": {},
   "outputs": [],
   "source": [
    "# code block for \"Examples of complaints that members had\""
   ]
  },
  {
   "cell_type": "markdown",
   "metadata": {},
   "source": [
    "# **(14) What percentage of the messages are encrypted?** (Tom)"
   ]
  },
  {
   "cell_type": "code",
   "execution_count": 18,
   "metadata": {},
   "outputs": [],
   "source": [
    "# code block for \"What percentage of the messages are encrypted?\""
   ]
  }
 ],
 "metadata": {
  "kernelspec": {
   "display_name": "Python 3.9.7 64-bit ('base': conda)",
   "language": "python",
   "name": "python3"
  },
  "language_info": {
   "codemirror_mode": {
    "name": "ipython",
    "version": 3
   },
   "file_extension": ".py",
   "mimetype": "text/x-python",
   "name": "python",
   "nbconvert_exporter": "python",
   "pygments_lexer": "ipython3",
   "version": "3.9.7"
  },
  "orig_nbformat": 4,
  "vscode": {
   "interpreter": {
    "hash": "91bb753b057673435fb8d6f6a083e6c818364728098c7ae050ca3a25357dd754"
   }
  }
 },
 "nbformat": 4,
 "nbformat_minor": 2
}
