{
 "cells": [
  {
   "cell_type": "markdown",
   "metadata": {},
   "source": [
    "# Introduction to Digital Forensics - Assignment 3\n",
    "### 1\n",
    "\n",
    "\n",
    "### 2\n",
    "\n",
    "### 3\n",
    "\n",
    "\n",
    "### Made by group 1:\n",
    "- Simge Bilen       s2532239\n",
    "- Mark Boom         s2552469\n",
    "- Tom Essers        s2484765\n",
    "- Baran Gülbey      s2616394\n",
    "- Jelmer Hofman     s2460653\n",
    "- Stijn Schuurman   s2620162"
   ]
  },
  {
   "cell_type": "code",
   "execution_count": null,
   "metadata": {},
   "outputs": [],
   "source": [
    "!pip3 install pandas\n",
    "!pip3 install matplotlib\n",
    "!pip3 install openpyxl"
   ]
  },
  {
   "cell_type": "code",
   "execution_count": null,
   "metadata": {},
   "outputs": [],
   "source": [
    "import pandas as pd\n",
    "import matplotlib.pyplot as plt"
   ]
  }
 ],
 "metadata": {
  "kernelspec": {
   "display_name": "Python 3.10.8 64-bit (microsoft store)",
   "language": "python",
   "name": "python3"
  },
  "language_info": {
   "codemirror_mode": {
    "name": "ipython",
    "version": 3
   },
   "file_extension": ".py",
   "mimetype": "text/x-python",
   "name": "python",
   "nbconvert_exporter": "python",
   "pygments_lexer": "ipython3",
   "version": "3.10.8"
  },
  "orig_nbformat": 4,
  "vscode": {
   "interpreter": {
    "hash": "d95261531ff198ac95b0a55d5932b5c4947455d960fb1376c7b85faa3b51f543"
   }
  }
 },
 "nbformat": 4,
 "nbformat_minor": 2
}
