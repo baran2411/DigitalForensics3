{
 "cells": [
  {
   "cell_type": "markdown",
   "metadata": {},
   "source": [
    "# Introduction to Digital Forensics - Assignment 3\n",
    "### 1\n",
    "\n",
    "\n",
    "### 2\n",
    "\n",
    "### 3\n",
    "\n",
    "\n",
    "### Made by group 1:\n",
    "- Simge Bilen       s2532239\n",
    "- Mark Boom         s2552469\n",
    "- Tom Essers        s2484765\n",
    "- Baran Gülbey      s2616394\n",
    "- Jelmer Hofman     s2460653\n",
    "- Stijn Schuurman   s2620162"
   ]
  },
  {
   "cell_type": "code",
   "execution_count": 1,
   "metadata": {},
   "outputs": [
    {
     "name": "stdout",
     "output_type": "stream",
     "text": [
      "Requirement already satisfied: pandas in c:\\users\\gulbe\\appdata\\local\\packages\\pythonsoftwarefoundation.python.3.10_qbz5n2kfra8p0\\localcache\\local-packages\\python310\\site-packages (1.5.0)\n",
      "Requirement already satisfied: python-dateutil>=2.8.1 in c:\\users\\gulbe\\appdata\\local\\packages\\pythonsoftwarefoundation.python.3.10_qbz5n2kfra8p0\\localcache\\local-packages\\python310\\site-packages (from pandas) (2.8.2)\n",
      "Requirement already satisfied: pytz>=2020.1 in c:\\users\\gulbe\\appdata\\local\\packages\\pythonsoftwarefoundation.python.3.10_qbz5n2kfra8p0\\localcache\\local-packages\\python310\\site-packages (from pandas) (2022.4)\n",
      "Requirement already satisfied: numpy>=1.21.0 in c:\\users\\gulbe\\appdata\\local\\packages\\pythonsoftwarefoundation.python.3.10_qbz5n2kfra8p0\\localcache\\local-packages\\python310\\site-packages (from pandas) (1.23.3)\n",
      "Requirement already satisfied: six>=1.5 in c:\\users\\gulbe\\appdata\\local\\packages\\pythonsoftwarefoundation.python.3.10_qbz5n2kfra8p0\\localcache\\local-packages\\python310\\site-packages (from python-dateutil>=2.8.1->pandas) (1.16.0)\n",
      "Requirement already satisfied: matplotlib in c:\\users\\gulbe\\appdata\\local\\packages\\pythonsoftwarefoundation.python.3.10_qbz5n2kfra8p0\\localcache\\local-packages\\python310\\site-packages (3.6.1)\n",
      "Requirement already satisfied: contourpy>=1.0.1 in c:\\users\\gulbe\\appdata\\local\\packages\\pythonsoftwarefoundation.python.3.10_qbz5n2kfra8p0\\localcache\\local-packages\\python310\\site-packages (from matplotlib) (1.0.5)\n",
      "Requirement already satisfied: cycler>=0.10 in c:\\users\\gulbe\\appdata\\local\\packages\\pythonsoftwarefoundation.python.3.10_qbz5n2kfra8p0\\localcache\\local-packages\\python310\\site-packages (from matplotlib) (0.11.0)\n",
      "Requirement already satisfied: kiwisolver>=1.0.1 in c:\\users\\gulbe\\appdata\\local\\packages\\pythonsoftwarefoundation.python.3.10_qbz5n2kfra8p0\\localcache\\local-packages\\python310\\site-packages (from matplotlib) (1.4.4)\n",
      "Requirement already satisfied: pillow>=6.2.0 in c:\\users\\gulbe\\appdata\\local\\packages\\pythonsoftwarefoundation.python.3.10_qbz5n2kfra8p0\\localcache\\local-packages\\python310\\site-packages (from matplotlib) (9.2.0)\n",
      "Requirement already satisfied: fonttools>=4.22.0 in c:\\users\\gulbe\\appdata\\local\\packages\\pythonsoftwarefoundation.python.3.10_qbz5n2kfra8p0\\localcache\\local-packages\\python310\\site-packages (from matplotlib) (4.37.4)\n",
      "Requirement already satisfied: numpy>=1.19 in c:\\users\\gulbe\\appdata\\local\\packages\\pythonsoftwarefoundation.python.3.10_qbz5n2kfra8p0\\localcache\\local-packages\\python310\\site-packages (from matplotlib) (1.23.3)\n",
      "Requirement already satisfied: python-dateutil>=2.7 in c:\\users\\gulbe\\appdata\\local\\packages\\pythonsoftwarefoundation.python.3.10_qbz5n2kfra8p0\\localcache\\local-packages\\python310\\site-packages (from matplotlib) (2.8.2)\n",
      "Requirement already satisfied: pyparsing>=2.2.1 in c:\\users\\gulbe\\appdata\\local\\packages\\pythonsoftwarefoundation.python.3.10_qbz5n2kfra8p0\\localcache\\local-packages\\python310\\site-packages (from matplotlib) (3.0.9)\n",
      "Requirement already satisfied: packaging>=20.0 in c:\\users\\gulbe\\appdata\\local\\packages\\pythonsoftwarefoundation.python.3.10_qbz5n2kfra8p0\\localcache\\local-packages\\python310\\site-packages (from matplotlib) (21.3)\n",
      "Requirement already satisfied: six>=1.5 in c:\\users\\gulbe\\appdata\\local\\packages\\pythonsoftwarefoundation.python.3.10_qbz5n2kfra8p0\\localcache\\local-packages\\python310\\site-packages (from python-dateutil>=2.7->matplotlib) (1.16.0)\n",
      "Requirement already satisfied: openpyxl in c:\\users\\gulbe\\appdata\\local\\packages\\pythonsoftwarefoundation.python.3.10_qbz5n2kfra8p0\\localcache\\local-packages\\python310\\site-packages (3.0.10)\n",
      "Requirement already satisfied: et-xmlfile in c:\\users\\gulbe\\appdata\\local\\packages\\pythonsoftwarefoundation.python.3.10_qbz5n2kfra8p0\\localcache\\local-packages\\python310\\site-packages (from openpyxl) (1.1.0)\n"
     ]
    }
   ],
   "source": [
    "!pip3 install pandas\n",
    "!pip3 install matplotlib\n",
    "!pip3 install openpyxl"
   ]
  },
  {
   "cell_type": "code",
   "execution_count": 2,
   "metadata": {},
   "outputs": [],
   "source": [
    "import pandas as pd\n",
    "import matplotlib.pyplot as plt"
   ]
  },
  {
   "cell_type": "code",
   "execution_count": 3,
   "metadata": {},
   "outputs": [
    {
     "data": {
      "text/plain": [
       "0"
      ]
     },
     "execution_count": 3,
     "metadata": {},
     "output_type": "execute_result"
    }
   ],
   "source": [
    "#csv file\n",
    "file =  'jabber_chat_2021_2022_translated.csv'\n",
    "\n",
    "df = pd.read_csv(file)\n",
    "test = \"\"\n",
    "len(test)"
   ]
  },
  {
   "cell_type": "code",
   "execution_count": 4,
   "metadata": {},
   "outputs": [
    {
     "data": {
      "text/plain": [
       "(array([ 313.,  408.,  321.,  388.,  249.,  531.,  839., 1977., 2759.,\n",
       "        3221., 3200., 3582., 4503., 5233., 5257., 4545., 4723., 4946.,\n",
       "        4393., 3089., 2940., 1952., 1404.]),\n",
       " array([ 0.,  1.,  2.,  3.,  4.,  5.,  6.,  7.,  8.,  9., 10., 11., 12.,\n",
       "        13., 14., 15., 16., 17., 18., 19., 20., 21., 22., 23.]),\n",
       " <BarContainer object of 23 artists>)"
      ]
     },
     "execution_count": 4,
     "metadata": {},
     "output_type": "execute_result"
    },
    {
     "data": {
      "image/png": "[encoded data removed]",
      "text/plain": [
       "<Figure size 640x480 with 1 Axes>"
      ]
     },
     "metadata": {},
     "output_type": "display_data"
    }
   ],
   "source": [
    "df = pd.read_csv(file, usecols=['ts'])\n",
    "hours = []\n",
    "for index, row in df.iterrows():\n",
    "    hours.append(int(row.ts[11:13]))\n",
    "plt.hist(hours, color=\"darkred\", bins=range(0, 24))"
   ]
  },
  {
   "cell_type": "code",
   "execution_count": 43,
   "metadata": {},
   "outputs": [],
   "source": [
    "def walletFinder(stringOfCell):\n",
    "    cryptoBegin = [\"1\", \"3\", \"b\"]\n",
    "    splittedCell = stringOfCell.split(' ')\n",
    "    for word in splittedCell:\n",
    "        if len(word) > 0:\n",
    "            if word[0] in cryptoBegin:\n",
    "                if len(word) in range(31, 35):\n",
    "                    return word\n",
    "    return 0\n",
    "    \n",
    "                \n",
    "# officieel tussen 27 en 34 length bitcoin wallet"
   ]
  },
  {
   "cell_type": "code",
   "execution_count": 47,
   "metadata": {},
   "outputs": [
    {
     "name": "stdout",
     "output_type": "stream",
     "text": [
      "['3ESoHHu87mTrFNSNUaMVEfT3vYwRYGfSHQ', '1PemRXvQ5nbDs6q19pCUzfd4kXVGovVoe3', '14HnaQfsQdtgVSNR91jLcbcKtdyddDfP6D', '15gjb8F5Zd8XRKBCgVxsr8ZuVzr7yBtnCN', '1DSp4woswZECAL9zdmmGeu1s7k1sGExFDh', '192.168.86.23(Preferred)\\r\\nSubnet', '1HtyXyCrshiJmLYNru7atpDMJrzG9mzwzf', 'b58c7d4c1824eefc874dd7f07eacec58', '1KfDPgc6CiWb6Fnin1bLWi2moX1ViXANxW', '1AXiwETqqQoA52Jk5CmJkbAPuW8nR7VUYz', '1hLvH27BxAPbqx3R2fMCuuMPfS2gGDBJL', '3N4oho2uXfkFBfUAPtoPGLUXjHXqXV4vrJ', '1347fBtFzZCrPq29yjRpct5f6Kq5uHZHHy', '36UqDj8hGfZTVjpURvSnKtpJnJKjhYcvuY', '314f41b2d78ec803c74a2c89fa8e8bb4', '31inPQPChryvSPEnaXrBc6kmYH4NAqYnTR', '1DS9DVVD4K86ppQhg8ta9XFVEaaW7NXZfA', '12V63PHiX8FvEgyewX5W1D2QrdJJSawqQM', '1HFqLt3fbuewZe5ncJautgncS6hN1ZzX5r', '16evvEiZ6HKkV9WAbysJfJG1Qa7DzJGUFp', '172KVKhMqL5CU1HN884RbArzu5DDL5hwE3', '1LYiEgq9k3xSAddbqMZcsVTayJVoKbTFub', '3A8xNfeK2dXdDHi5PtKjZFa48HFixTqdAv', '36dmB68ZpeZZThy9SnCHoMvfqCKgZS1Grf', 'b0f6d9a083596b0fd4f9168d6f3d67cc', '112qJRWfQCAqKzSk3ZcQnq1A1YwqyfLbgp', '3Jc3mTyYuRpP7hynPaStpDBPNNd8FYydzS', '1FWWRT88WjYbZp4NoRNEBgTGjRxhi2J9YM', '3B7AmkZ8VVhKAAqCp4ZLNVbmGJQoZcaBc9', '1KQ5tkv7NWjG2a67fP6UzTc7egE6HWAXux', '15QULY9y2HJj1i85LiJGMYWChhAqnGkCSx', '3M9tAMuamLcCpifaCQPSH3Th5F4VwjmyWz', '3LaDs8DLJCSiJDV8RYHGyk4EVjbVRvxC9A', '169J9MvXSjJZUjarG7JXDD8qiQXZS4jj6A', '3CvVwhowFkgoqEw2cZE5DmMYvsqRgtQVaH', '3QdNiLEpxKWQ6SoxULAo4xc48d5otumivR', '1K4NVpT26qwtLp2yReFkgecPkqqQHVrVJd', 'b57e0d8ffb1743f08eb6d3aa4a2e743a', '188.130.139.54\\r\\nroot:GtG7kF1RjzR5', '1GoAiu7jLbjNoVBvKX8Dba45G4J3BFL3tM', '3JDKxEidX2JhmusBDB3BRaCahucEiHcK8n', '12KHi1L1KUNDjSvkG5j56FRNbFrud3ZjUU', '35Z4UipuER5ZGprGUugcoxPWwZ43RXchPX', '1LLRL4vZajTtpjuBh5VpBD8zUg73CHUsq3', '33hiG13GTHTV2G8aZxzBJHBPBpDNevcK2B', '3351LRF9NrFH5v2CMZWsCv66tv5UAjX5Gn']\n"
     ]
    }
   ],
   "source": [
    "df = pd.read_csv(file, usecols=['body'])\n",
    "errorStrings = [\"[ERROR: This message is encrypted, and you are unable to decrypt it.]\", \"[Ошибка: сообщение зашифровано, и невозможно его расшифровать.]\"]\n",
    "publicKeyString = \"-----BEGIN PGP PUBLIC KEY BLOCK-----\"\n",
    "onionString = \".onion\"\n",
    "wallets = []\n",
    "for index, row in df.iterrows():\n",
    "    if row.body not in errorStrings:\n",
    "        if publicKeyString not in row.body:\n",
    "            if onionString not in row.body:\n",
    "                temp = walletFinder(row.body)\n",
    "                if temp != 0:\n",
    "                    if temp not in wallets:\n",
    "                        wallets.append(temp)\n",
    "print(wallets)\n",
    "\n"
   ]
  }
 ],
 "metadata": {
  "kernelspec": {
   "display_name": "Python 3.10.8 64-bit (microsoft store)",
   "language": "python",
   "name": "python3"
  },
  "language_info": {
   "codemirror_mode": {
    "name": "ipython",
    "version": 3
   },
   "file_extension": ".py",
   "mimetype": "text/x-python",
   "name": "python",
   "nbconvert_exporter": "python",
   "pygments_lexer": "ipython3",
   "version": "3.10.8"
  },
  "orig_nbformat": 4,
  "vscode": {
   "interpreter": {
    "hash": "d95261531ff198ac95b0a55d5932b5c4947455d960fb1376c7b85faa3b51f543"
   }
  }
 },
 "nbformat": 4,
 "nbformat_minor": 2
}
